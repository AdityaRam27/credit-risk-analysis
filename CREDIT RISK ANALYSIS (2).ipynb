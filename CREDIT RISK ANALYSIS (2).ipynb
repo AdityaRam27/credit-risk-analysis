{
 "cells": [
  {
   "cell_type": "markdown",
   "metadata": {},
   "source": [
    "IMPORTING THE REQUIRED LIBRARIES"
   ]
  },
  {
   "cell_type": "code",
   "execution_count": null,
   "metadata": {},
   "outputs": [],
   "source": [
    "import pandas as pd\n",
    "import numpy as np\n",
    "import matplotlib.pyplot as plt \n",
    "import seaborn as sns \n",
    "sns.set(style=\"white\")\n",
    "sns.set(style=\"ticks\", color_codes=True)"
   ]
  },
  {
   "cell_type": "markdown",
   "metadata": {},
   "source": [
    "READING THE GIVEN DATASET"
   ]
  },
  {
   "cell_type": "code",
   "execution_count": null,
   "metadata": {},
   "outputs": [],
   "source": [
    "data=pd.read_csv('C:/Users/aditya/Documents/Python Scripts/XYZCorp_LendingData.txt',delimiter='\\t', low_memory=False,parse_dates=[\"issue_d\"])"
   ]
  },
  {
   "cell_type": "code",
   "execution_count": null,
   "metadata": {},
   "outputs": [],
   "source": [
    "print(data.shape)\n",
    "print(data.dtypes)\n",
    "print(data.describe())\n",
    "print(data.isnull().sum())"
   ]
  },
  {
   "cell_type": "code",
   "execution_count": null,
   "metadata": {},
   "outputs": [],
   "source": [
    "PGA=pd.DataFrame(data)\n",
    "PGA.dtypes"
   ]
  },
  {
   "cell_type": "markdown",
   "metadata": {},
   "source": [
    "Deletion of variables that has more than 50% of NA"
   ]
  },
  {
   "cell_type": "code",
   "execution_count": null,
   "metadata": {},
   "outputs": [],
   "source": [
    "half_count=len(PGA)/2\n",
    "PGA1=PGA.dropna(thresh=half_count,axis=1)\n",
    "print(PGA1.isnull().sum())\n"
   ]
  },
  {
   "cell_type": "markdown",
   "metadata": {},
   "source": [
    "CHECKING THE CORRELATION MATRIX TO DROP HIGHLY REDUNDANT DATA"
   ]
  },
  {
   "cell_type": "code",
   "execution_count": null,
   "metadata": {},
   "outputs": [],
   "source": [
    "cor = PGA1.corr()\n",
    "cor.loc[:,:] = np.tril(cor, k=-1)  # below main lower triangle of an array\n",
    "cor = cor.stack()\n",
    "print(cor)\n",
    "cor[(cor > 0.60) | (cor < -0.6)]"
   ]
  },
  {
   "cell_type": "markdown",
   "metadata": {},
   "source": [
    "converting ordinal variables to numeric"
   ]
  },
  {
   "cell_type": "markdown",
   "metadata": {},
   "source": [
    "ordinal to numeric"
   ]
  },
  {
   "cell_type": "code",
   "execution_count": null,
   "metadata": {},
   "outputs": [],
   "source": [
    "PGA1.grade.value_counts()\n",
    "grade_final={'A':6,'B':5,'C':4,'D':3,'E':2,'F':1,'G':0}\n",
    "PGA1.grade=[grade_final[item]for item in PGA1.grade]\n",
    "print(PGA1.grade)"
   ]
  },
  {
   "cell_type": "markdown",
   "metadata": {},
   "source": [
    "string to numeric"
   ]
  },
  {
   "cell_type": "code",
   "execution_count": null,
   "metadata": {},
   "outputs": [],
   "source": [
    "PGA1.term.value_counts()\n",
    "PGA1.term=PGA1.term.str.extract('(\\d+)')\n",
    "term_final={'36':0,'60':1}\n",
    "PGA1.term=[term_final[item]for item in PGA1.term]\n",
    "print(PGA1.term)"
   ]
  },
  {
   "cell_type": "code",
   "execution_count": null,
   "metadata": {},
   "outputs": [],
   "source": [
    "PGA1['emp_length'].mode()[0]\n",
    "PGA1['emp_length'].fillna(PGA1['emp_length'].mode()[0],inplace=True)\n",
    "PGA1['emp_length'] = PGA1['emp_length'].str.replace('+','')\n",
    "PGA1['emp_length'] = PGA1['emp_length'].str.replace('<','')\n",
    "print(PGA1.emp_length)\n",
    "PGA1.emp_length=PGA1.emp_length.str.extract('(\\d+)')\n",
    "print(PGA1.emp_length)\n",
    "PGA1.emp_length = [int(x) for x in PGA1.emp_length]\n",
    "print(PGA1.emp_length.dtype)"
   ]
  },
  {
   "cell_type": "code",
   "execution_count": null,
   "metadata": {},
   "outputs": [],
   "source": [
    "print(PGA1['verification_status'].unique())\n",
    "print(PGA1.verification_status)"
   ]
  },
  {
   "cell_type": "code",
   "execution_count": null,
   "metadata": {},
   "outputs": [],
   "source": [
    "Ver_status={'Verified':1,'Source Verified':1,'Not Verified':0}\n",
    "PGA1.verification_status=[Ver_status[item]for item in PGA1.verification_status]\n",
    "print(PGA1.verification_status)"
   ]
  },
  {
   "cell_type": "code",
   "execution_count": null,
   "metadata": {},
   "outputs": [],
   "source": [
    "print(PGA1['home_ownership'].unique())\n",
    "home_ownership_score={'NONE':0,'ANY':0,'OTHER':0,'RENT':1,'MORTGAGE':2,'OWN':3}\n",
    "PGA1.home_ownership=[home_ownership_score[item]for item in PGA1.home_ownership]\n",
    "print(PGA1.home_ownership)"
   ]
  },
  {
   "cell_type": "code",
   "execution_count": null,
   "metadata": {},
   "outputs": [],
   "source": [
    "print(PGA1['application_type'].unique())\n",
    "App_type={'INDIVIDUAL':1,'JOINT':2}\n",
    "PGA1.application_type=[App_type[item] for item in PGA1.application_type]\n",
    "print(PGA1.application_type)"
   ]
  },
  {
   "cell_type": "code",
   "execution_count": null,
   "metadata": {},
   "outputs": [],
   "source": [
    "print(PGA1['initial_list_status'].unique())\n",
    "list_status={'w':1,'f':2}\n",
    "PGA1.initial_list_status=[list_status[item] for item in PGA1.initial_list_status]\n",
    "print(PGA1.initial_list_status)"
   ]
  },
  {
   "cell_type": "code",
   "execution_count": null,
   "metadata": {},
   "outputs": [],
   "source": [
    "print(PGA1['purpose'].unique())\n",
    "purpose_score={'vacation':0,'other':1,'major_purchase':2,'car':3,'wedding':4,'medical':5,'moving':6,'home_improvement':7,'credit_card':8,'debt_consolidation':9,'house':10,'small_business':11,'renewable_energy':12,'educational':13}\n",
    "PGA1.purpose=[purpose_score[item] for item in PGA1.purpose]\n",
    "print(PGA1.purpose)"
   ]
  },
  {
   "cell_type": "code",
   "execution_count": null,
   "metadata": {},
   "outputs": [],
   "source": [
    "PGA1.open_acc.mode()\n",
    "\n",
    "def open_acc_final(i):\n",
    "    if i in range (4,23):\n",
    "        return(1)\n",
    "    else:\n",
    "        return(0)\n",
    "\n",
    "PGA1['open_acc']= PGA1['open_acc'].apply(open_acc_final)\n",
    "print(PGA1.open_acc)"
   ]
  },
  {
   "cell_type": "code",
   "execution_count": null,
   "metadata": {},
   "outputs": [],
   "source": [
    "PGA1.revol_util.describe()\n",
    "print(PGA1.revol_util.isnull().sum())\n",
    "PGA1['revol_util'].fillna(PGA1['revol_util'].median(),inplace=True)\n",
    "print(PGA1.revol_util.isnull().sum())"
   ]
  },
  {
   "cell_type": "code",
   "execution_count": null,
   "metadata": {},
   "outputs": [],
   "source": [
    "PGA1['earliest_cr_line'].unique()\n",
    "PGA1.earliest_cr_line = PGA1.earliest_cr_line.str.extract('(\\d+)')\n",
    "print(PGA1.earliest_cr_line)\n",
    "PGA1.earliest_cr_line = [int(x) for x in PGA1.earliest_cr_line]\n",
    "print(PGA1.earliest_cr_line.dtype)\n",
    "\n",
    "def earliest_cr_line_final(i):\n",
    "    if i in range(44,79):\n",
    "        return(0)\n",
    "    elif i in range(80,90):\n",
    "        return(1)\n",
    "    elif i in range(90,0):\n",
    "        return(2)\n",
    "    else:\n",
    "        return(3)\n",
    "    \n",
    "PGA1['earliest_cr_line']= PGA1['earliest_cr_line'].apply(earliest_cr_line_final)\n",
    "print(PGA1.earliest_cr_line)"
   ]
  },
  {
   "cell_type": "code",
   "execution_count": null,
   "metadata": {},
   "outputs": [],
   "source": [
    "PGA1['last_pymnt_d'].fillna(PGA1['last_pymnt_d'].mode()[0],inplace=True)\n",
    "PGA1.last_pymnt_d=PGA1.last_pymnt_d.str.extract('(\\d+)')\n",
    "print(PGA1.last_pymnt_d)\n",
    "PGA1.last_pymnt_d = [int(x) for x in PGA1.last_pymnt_d]\n",
    "print(PGA1.last_pymnt_d.dtype)\n",
    "#%%\n",
    "def last_pymnt_d_final(i):\n",
    "    if i in range (8,10):\n",
    "        return(0)\n",
    "    elif i in range(11,13):\n",
    "        return(1)    \n",
    "    else:\n",
    "        return(2)\n",
    "    #%%\n",
    "PGA1['last_pymnt_d']= PGA1['last_pymnt_d'].apply(last_pymnt_d_final)\n",
    "print(PGA1.last_pymnt_d)"
   ]
  },
  {
   "cell_type": "markdown",
   "metadata": {},
   "source": [
    "DROPPING COLUMNS\n"
   ]
  },
  {
   "cell_type": "code",
   "execution_count": null,
   "metadata": {},
   "outputs": [],
   "source": [
    "PGA2=pd.DataFrame(PGA1)\n",
    "PGA2.drop(['member_id','funded_amnt','addr_state','emp_title','sub_grade','inq_last_6mths','funded_amnt_inv','pymnt_plan','title','zip_code','inq_last_6mths','total_acc','out_prncp_inv','total_pymnt_inv','next_pymnt_d','policy_code','tot_coll_amt'],axis=1,inplace=True)\n",
    "\n",
    "#%%\n",
    "PGA2.shape\n",
    "PGA2.isnull().sum()"
   ]
  },
  {
   "cell_type": "markdown",
   "metadata": {},
   "source": [
    "DROPPING NA VALUES"
   ]
  },
  {
   "cell_type": "code",
   "execution_count": null,
   "metadata": {},
   "outputs": [],
   "source": [
    "print(PGA2.tot_cur_bal.isnull().sum())\n",
    "print(PGA2.total_rev_hi_lim.isnull().sum())\n",
    "PGA3=PGA2.dropna(axis=0,how='any',thresh=None)\n",
    "PGA3.isnull().sum()"
   ]
  },
  {
   "cell_type": "code",
   "execution_count": null,
   "metadata": {},
   "outputs": [],
   "source": [
    "corrmat = PGA3.corr()\n",
    "sns.heatmap(corrmat, vmax=1, square=True,annot=True)"
   ]
  },
  {
   "cell_type": "code",
   "execution_count": null,
   "metadata": {},
   "outputs": [],
   "source": [
    "k = 10 #number of variables for heatmap\n",
    "cols = corrmat.nlargest(k,'revol_bal')['revol_bal'].index\n",
    "cm = np.corrcoef(PGA3[cols].values.T)\n",
    "sns.set(font_scale=1.25)\n",
    "hm = sns.heatmap(cm, cbar=True, annot=True, square=True, fmt='.2f', annot_kws={'size': 10}, yticklabels=cols.values, xticklabels=cols.values)\n",
    "plt.show()"
   ]
  },
  {
   "cell_type": "code",
   "execution_count": null,
   "metadata": {},
   "outputs": [],
   "source": [
    "print(PGA3['last_credit_pull_d'].unique())\n",
    "print(PGA3.last_credit_pull_d.isnull().sum())\n",
    "PGA3.last_credit_pull_d=PGA3.last_credit_pull_d.str.extract('(\\d+)')\n",
    "print(PGA3.last_credit_pull_d)\n",
    "\n",
    "PGA3.last_credit_pull_d = [int(x) for x in PGA3.last_credit_pull_d]\n",
    "print(PGA3.last_credit_pull_d.dtype)\n",
    "\n",
    "def last__credit_pull_d_final(i):\n",
    "    if i in range (14,16):\n",
    "        return(0)\n",
    "    else:\n",
    "        return(1)\n",
    "        \n",
    "PGA3['last_credit_pull_d']= PGA3['last_credit_pull_d'].apply(last__credit_pull_d_final)\n",
    "print(PGA3.last_credit_pull_d)"
   ]
  },
  {
   "cell_type": "code",
   "execution_count": null,
   "metadata": {},
   "outputs": [],
   "source": [
    "print(PGA3['pub_rec'].unique())\n",
    "PGA3.pub_rec.isnull().sum()\n",
    "#%%\n",
    "def pub_rec_final(i):\n",
    "    if i == 0:\n",
    "        return(4)\n",
    "    elif i == 1:\n",
    "        return(3)\n",
    "    elif i == 2:\n",
    "        return(2)\n",
    "    elif i == 3:\n",
    "        return(1)\n",
    "    else:\n",
    "        return(0)\n",
    "PGA3['pub_rec']= PGA3['pub_rec'].apply(pub_rec_final)\n",
    "print(PGA3.pub_rec)"
   ]
  },
  {
   "cell_type": "code",
   "execution_count": null,
   "metadata": {},
   "outputs": [],
   "source": [
    "PGA3.delinq_2yrs.isnull().sum()\n",
    "#%%\n",
    "def delinq_2yrs_final(i):\n",
    "    if i == 0:\n",
    "        return(4)\n",
    "    elif i == 1:\n",
    "        return(3)\n",
    "    elif i == 2:\n",
    "        return(2)\n",
    "    elif i == 3:\n",
    "        return(1)\n",
    "    else:\n",
    "        return(0)\n",
    "PGA3['delinq_2yrs']= PGA3['delinq_2yrs'].apply(delinq_2yrs_final)\n",
    "print(PGA3.delinq_2yrs)"
   ]
  },
  {
   "cell_type": "code",
   "execution_count": null,
   "metadata": {},
   "outputs": [],
   "source": [
    "PGA3.info()"
   ]
  },
  {
   "cell_type": "markdown",
   "metadata": {},
   "source": [
    "SPLITTING TRAIN AND TEST"
   ]
  },
  {
   "cell_type": "code",
   "execution_count": null,
   "metadata": {},
   "outputs": [],
   "source": [
    "PGA3.issue_d\n",
    "train_data=PGA3[PGA3['issue_d']<'2015-06-01']\n",
    "train_data.shape\n",
    "\n",
    "train_data=train_data.drop('issue_d',axis=1)"
   ]
  },
  {
   "cell_type": "code",
   "execution_count": null,
   "metadata": {},
   "outputs": [],
   "source": [
    "test_data=PGA3[PGA3['issue_d']>='2015-06-01']\n",
    "\n",
    "test_data.shape\n",
    "\n",
    "test_data=test_data.drop('issue_d',axis=1)"
   ]
  },
  {
   "cell_type": "code",
   "execution_count": null,
   "metadata": {},
   "outputs": [],
   "source": [
    "#%% Train\n",
    "X_train=train_data.values[:,1:-1]\n",
    "Y_train=train_data.values[:,-1]\n"
   ]
  },
  {
   "cell_type": "code",
   "execution_count": null,
   "metadata": {},
   "outputs": [],
   "source": [
    "#%% Test\n",
    "X_test=test_data.values[:,1:-1]\n",
    "Y_test=test_data.values[:,-1]\n",
    "(X_test)\n",
    "(Y_test)"
   ]
  },
  {
   "cell_type": "code",
   "execution_count": null,
   "metadata": {},
   "outputs": [],
   "source": [
    "from sklearn.linear_model import LogisticRegression\n",
    "LR = (LogisticRegression())\n",
    "\n",
    "LR.fit(X_train, Y_train)\n",
    "\n",
    "Y_pred=LR.predict(X_test)\n",
    "print(list(zip(Y_test,Y_pred)))\n"
   ]
  },
  {
   "cell_type": "code",
   "execution_count": null,
   "metadata": {},
   "outputs": [],
   "source": [
    "from sklearn.metrics import confusion_matrix,accuracy_score,classification_report\n",
    "cfm=confusion_matrix(Y_test,Y_pred)\n",
    "print(cfm)\n",
    "print(\"Classification report:\")\n",
    "print(classification_report(Y_test,Y_pred))\n",
    "acc=accuracy_score(Y_test,Y_pred)\n",
    "print(\"Accuracy of the model:\",acc)"
   ]
  },
  {
   "cell_type": "code",
   "execution_count": null,
   "metadata": {},
   "outputs": [],
   "source": [
    "cfm=confusion_matrix(Y_test,Y_pred)\n",
    "print(cfm)"
   ]
  },
  {
   "cell_type": "code",
   "execution_count": null,
   "metadata": {},
   "outputs": [],
   "source": [
    "from sklearn import metrics\n",
    "fpr, tpr,threshold = metrics.roc_curve(Y_test.tolist(),Y_pred)\n",
    "auc = metrics.auc(fpr,tpr)\n",
    "print(auc)\n",
    "\n",
    "\n",
    "plt.title('Receiver operating Characteristic')\n",
    "plt.plot(fpr, tpr,'b',label = auc) \n",
    "plt.legend(loc = 'lower right')\n",
    "plt.plot([0,1],[0,1],'r--')\n",
    "plt.xlim([0,1])\n",
    "plt.ylim([0,1])\n",
    "plt.xlabel('False Positive Rate')\n",
    "plt.ylabel('True Positive Rate')\n",
    "plt.show()"
   ]
  },
  {
   "cell_type": "markdown",
   "metadata": {},
   "source": [
    "Scalar Transformation "
   ]
  },
  {
   "cell_type": "code",
   "execution_count": null,
   "metadata": {},
   "outputs": [],
   "source": [
    "from sklearn.preprocessing import StandardScaler\n",
    "scaler = StandardScaler()\n",
    "scaler.fit(X_train)\n",
    "\n",
    "X_train= scaler.transform(X_train)\n",
    "X_test = scaler.transform(X_test)"
   ]
  },
  {
   "cell_type": "markdown",
   "metadata": {},
   "source": [
    "KNN CLASSIFIER MODEL"
   ]
  },
  {
   "cell_type": "code",
   "execution_count": null,
   "metadata": {},
   "outputs": [],
   "source": [
    "from sklearn.neighbors import KNeighborsClassifier\n",
    "classifier = KNeighborsClassifier(n_neighbors=3)\n",
    "classifier.fit(X_train,Y_train)"
   ]
  },
  {
   "cell_type": "code",
   "execution_count": null,
   "metadata": {},
   "outputs": [],
   "source": [
    "Y_pred = classifier.predict(X_test)"
   ]
  },
  {
   "cell_type": "code",
   "execution_count": null,
   "metadata": {},
   "outputs": [],
   "source": [
    "from sklearn.metrics import classification_report, accuracy_score,confusion_matrix  \n",
    "print(confusion_matrix(Y_test, Y_pred))   \n",
    "print(classification_report(Y_test, Y_pred)) \n",
    "\n",
    "acc=accuracy_score(Y_test,Y_pred)\n",
    "print(\"Accuracy of the model:\",acc)"
   ]
  }
 ],
 "metadata": {
  "kernelspec": {
   "display_name": "Python 3",
   "language": "python",
   "name": "python3"
  },
  "language_info": {
   "codemirror_mode": {
    "name": "ipython",
    "version": 3
   },
   "file_extension": ".py",
   "mimetype": "text/x-python",
   "name": "python",
   "nbconvert_exporter": "python",
   "pygments_lexer": "ipython3",
   "version": "3.7.0"
  }
 },
 "nbformat": 4,
 "nbformat_minor": 2
}
